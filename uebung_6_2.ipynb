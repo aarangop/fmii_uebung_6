{
 "cells": [
  {
   "cell_type": "code",
   "execution_count": 4,
   "metadata": {},
   "outputs": [
    {
     "ename": "ModuleNotFoundError",
     "evalue": "No module named 'src'",
     "output_type": "error",
     "traceback": [
      "\u001b[1;31m---------------------------------------------------------------------------\u001b[0m",
      "\u001b[1;31mModuleNotFoundError\u001b[0m                       Traceback (most recent call last)",
      "Cell \u001b[1;32mIn[4], line 1\u001b[0m\n\u001b[1;32m----> 1\u001b[0m \u001b[39mfrom\u001b[39;00m \u001b[39msrc\u001b[39;00m\u001b[39m.\u001b[39;00m\u001b[39mhelpers\u001b[39;00m \u001b[39mimport\u001b[39;00m plot_complex, plot_single_value, SolutionEval\n\u001b[0;32m      2\u001b[0m \u001b[39mimport\u001b[39;00m \u001b[39msrc\u001b[39;00m \u001b[39mas\u001b[39;00m \u001b[39muebung_6_helpers\u001b[39;00m\n\u001b[0;32m      3\u001b[0m \u001b[39mimport\u001b[39;00m \u001b[39mimportlib\u001b[39;00m\u001b[39m.\u001b[39;00m\u001b[39mresources\u001b[39;00m \u001b[39mas\u001b[39;00m \u001b[39mpkg_resources\u001b[39;00m\n",
      "\u001b[1;31mModuleNotFoundError\u001b[0m: No module named 'src'"
     ]
    }
   ],
   "source": [
    "from src.helpers import plot_complex, plot_single_value, SolutionEval\n",
    "import src as uebung_6_helpers\n",
    "import importlib.resources as pkg_resources\n",
    "import json\n",
    "import cmath\n",
    "import math\n",
    "import matplotlib.pyplot as plt\n",
    "from ipywidgets import interact\n",
    "\n",
    "# Load coefficients from file.\n",
    "coeff = json.load(pkg_resources.files(uebung_6_helpers).joinpath('coefficients.json').open('r'))\n"
   ]
  },
  {
   "cell_type": "markdown",
   "metadata": {},
   "source": [
    "# Variation der Schwerpunktlage $\\frac{x_{SP} - x_{FR}}{l_\\mu}$\n",
    "\n",
    "## Anstellwinkelschwingung"
   ]
  },
  {
   "cell_type": "code",
   "execution_count": null,
   "metadata": {},
   "outputs": [
    {
     "data": {
      "application/vnd.jupyter.widget-view+json": {
       "model_id": "82050e516e374af19064aa290c923341",
       "version_major": 2,
       "version_minor": 0
      },
      "text/plain": [
       "interactive(children=(FloatSlider(value=1.4000000000000001, description='x', max=2.7, min=0.1, step=0.001), Ch…"
      ]
     },
     "metadata": {},
     "output_type": "display_data"
    }
   ],
   "source": [
    "# Define functions to calculate sigma and omega_null\n",
    "x_sp_sigma_alpha_fn = lambda x: coeff['D']['sigma']['alpha'] * x * x + coeff['B']['sigma']['alpha'] *x + coeff['A']['sigma']['alpha']\n",
    "x_sp_omega_null_alpha_fn = lambda x: cmath.sqrt(cmath.sqrt(coeff['D']['omega']['alpha'] * x * x + coeff['B']['omega']['alpha'] *x + coeff['A']['omega']['alpha']))\n",
    "res = SolutionEval(x_sp_sigma_alpha_fn, x_sp_omega_null_alpha_fn, (0.1, 2.7, 0.001))\n",
    "\n",
    "# Make interactive plot\n",
    "@interact(x=(0.1, 2.7, 0.001), show_angle=False)\n",
    "def plot(x, show_angle):\n",
    "    x_sp_plot = plt.subplots(figsize=(15, 8))\n",
    "    plot_complex(x_sp_plot, res.ranged_sigma().real, res.ranged_omega().real)\n",
    "    plot_single_value(x_sp_plot, x, res, show_angle)\n",
    "    "
   ]
  },
  {
   "cell_type": "markdown",
   "metadata": {},
   "source": [
    "## Phygoide\n",
    "Unabhängig von der Schwerpunktlage"
   ]
  },
  {
   "cell_type": "markdown",
   "metadata": {},
   "source": [
    "# Variation der Trimmgeschwindigkeit $V_{TR}$"
   ]
  },
  {
   "cell_type": "code",
   "execution_count": null,
   "metadata": {},
   "outputs": [],
   "source": [
    "v_tr_variation_range = (40, 150, 10)"
   ]
  },
  {
   "cell_type": "markdown",
   "metadata": {},
   "source": [
    "## Anstellwinkelschwingung"
   ]
  },
  {
   "cell_type": "code",
   "execution_count": null,
   "metadata": {},
   "outputs": [
    {
     "data": {
      "application/vnd.jupyter.widget-view+json": {
       "model_id": "52fbf6f1cca14de881d37de169b32ab6",
       "version_major": 2,
       "version_minor": 0
      },
      "text/plain": [
       "interactive(children=(IntSlider(value=90, description='x', max=150, min=40, step=10), Checkbox(value=False, de…"
      ]
     },
     "metadata": {},
     "output_type": "display_data"
    }
   ],
   "source": [
    "# Define functions to calculate sigma and omega_null\n",
    "v_tr_sigma_alpha_fn = lambda x: coeff[\"E\"][\"sigma\"][\"alpha\"] * x\n",
    "v_tr_omega_null_alpha_fn = lambda x: coeff[\"E\"][\"omega\"][\"alpha\"] * x\n",
    "\n",
    "v_tr_alpha_res = SolutionEval(v_tr_sigma_alpha_fn, v_tr_omega_null_alpha_fn, v_tr_variation_range)\n",
    "\n",
    "# Make interactive plot\n",
    "@interact(x=v_tr_variation_range, show_angle=False)\n",
    "def plot(x, show_angle):\n",
    "    v_tr_alpha_plot = plt.subplots(figsize=(15, 8))\n",
    "    plot_complex(v_tr_alpha_plot, v_tr_alpha_res.ranged_sigma().real, v_tr_alpha_res.ranged_omega().real)\n",
    "    plot_single_value(v_tr_alpha_plot, x, v_tr_alpha_res, show_angle)"
   ]
  },
  {
   "cell_type": "markdown",
   "metadata": {},
   "source": [
    "## Phygoide"
   ]
  },
  {
   "cell_type": "code",
   "execution_count": null,
   "metadata": {},
   "outputs": [
    {
     "data": {
      "application/vnd.jupyter.widget-view+json": {
       "model_id": "a91c291458e84d7db482549a647f1a1f",
       "version_major": 2,
       "version_minor": 0
      },
      "text/plain": [
       "interactive(children=(IntSlider(value=90, description='x', max=150, min=40, step=10), Checkbox(value=False, de…"
      ]
     },
     "metadata": {},
     "output_type": "display_data"
    }
   ],
   "source": [
    "# Define functions to calculate sigma and omega_null\n",
    "v_tr_sigma_ph_fn = lambda x: -0.000276 * (1/x) - 648.12/math.pow(x, 3)\n",
    "v_tr_omega_null_ph_fn = lambda x: coeff[\"E\"][\"omega\"][\"phygoide\"] * 1/x\n",
    "\n",
    "v_tr_ph_res = SolutionEval(v_tr_sigma_ph_fn, v_tr_omega_null_ph_fn, (40, 150, 0.1))\n",
    "\n",
    "# Make interactive plot\n",
    "@interact(x=v_tr_variation_range, show_angle=False)\n",
    "def plot(x, show_angle):\n",
    "    v_tr_ph_plot = plt.subplots(figsize=(15, 8))\n",
    "    plot_complex(v_tr_ph_plot, v_tr_ph_res.ranged_sigma().real, v_tr_ph_res.ranged_omega().real)\n",
    "    plot_single_value(v_tr_ph_plot, x, v_tr_ph_res, show_angle)"
   ]
  },
  {
   "cell_type": "markdown",
   "metadata": {},
   "source": [
    "## Variation des Nullwiderstands $C_{W0}$"
   ]
  },
  {
   "cell_type": "code",
   "execution_count": null,
   "metadata": {},
   "outputs": [],
   "source": [
    "cw0_variation_range = (0.01, 0.6, 1e-4)"
   ]
  },
  {
   "cell_type": "markdown",
   "metadata": {},
   "source": [
    "## Anstellwinkelschwingung\n",
    "Unabängig vom Nullwiderstand!"
   ]
  },
  {
   "cell_type": "markdown",
   "metadata": {},
   "source": [
    "## Phygoide"
   ]
  },
  {
   "cell_type": "code",
   "execution_count": null,
   "metadata": {},
   "outputs": [
    {
     "data": {
      "application/vnd.jupyter.widget-view+json": {
       "model_id": "2ede650bc3474ce691c56c547e787e82",
       "version_major": 2,
       "version_minor": 0
      },
      "text/plain": [
       "interactive(children=(FloatSlider(value=0.3049, description='x', max=0.6, min=0.01, step=0.0001), Checkbox(val…"
      ]
     },
     "metadata": {},
     "output_type": "display_data"
    }
   ],
   "source": [
    "# Define functions to calculate sigma and omega_null\n",
    "cw0_sigma_ph_fn = lambda x: coeff['H']['sigma']['phygoide'] * x + coeff['J']['sigma']['phygoide']\n",
    "cw0_omega_null_ph_fn = lambda x: coeff[\"H\"][\"omega\"][\"phygoide\"]\n",
    "\n",
    "cw0_ph_res = SolutionEval(cw0_sigma_ph_fn, cw0_omega_null_ph_fn, cw0_variation_range)\n",
    "\n",
    "# Make interactive plot\n",
    "@interact(x=cw0_variation_range, show_angle=False)\n",
    "def plot(x, show_angle):\n",
    "    cw0_ph_plot = plt.subplots(figsize=(15, 8))\n",
    "    plot_complex(cw0_ph_plot, cw0_ph_res.ranged_sigma().real, cw0_ph_res.ranged_omega().real)\n",
    "    plot_single_value(cw0_ph_plot, x, cw0_ph_res, show_angle)"
   ]
  },
  {
   "cell_type": "markdown",
   "metadata": {},
   "source": [
    "# Variation der Flughöhe bzw. der Luftdichte $\\rho$"
   ]
  },
  {
   "cell_type": "code",
   "execution_count": null,
   "metadata": {},
   "outputs": [],
   "source": [
    "rho_variation_range = (0.364, 1.225, 0.001)"
   ]
  },
  {
   "cell_type": "markdown",
   "metadata": {},
   "source": [
    "## Anstellwinkelschwingung"
   ]
  },
  {
   "cell_type": "code",
   "execution_count": null,
   "metadata": {},
   "outputs": [
    {
     "data": {
      "application/vnd.jupyter.widget-view+json": {
       "model_id": "8df2360749814db9b87db40249cf57b0",
       "version_major": 2,
       "version_minor": 0
      },
      "text/plain": [
       "interactive(children=(FloatSlider(value=0.794, description='x', max=1.225, min=0.364, step=0.001), Checkbox(va…"
      ]
     },
     "metadata": {},
     "output_type": "display_data"
    }
   ],
   "source": [
    "# Define functions to calculate sigma and omega_null\n",
    "rho_sigma_alpha_fn = lambda x: coeff[\"K\"][\"sigma\"][\"alpha\"] * x\n",
    "rho_omega_null_alpha_fn = lambda x: math.sqrt(coeff[\"K\"][\"omega\"][\"alpha\"] * x + coeff['L']['omega']['alpha'] * x * x)\n",
    "\n",
    "rho_alpha_res = SolutionEval(rho_sigma_alpha_fn, rho_omega_null_alpha_fn, rho_variation_range)\n",
    "# Make interactive plot\n",
    "@interact(x=rho_variation_range, show_angle=False)\n",
    "def plot(x, show_angle):\n",
    "    rho_alpha_plot = plt.subplots(figsize=(15, 8))\n",
    "    plot_complex(rho_alpha_plot, rho_alpha_res.ranged_sigma().real, rho_alpha_res.ranged_omega().real)\n",
    "    plot_single_value(rho_alpha_plot, x, rho_alpha_res, show_angle)"
   ]
  },
  {
   "cell_type": "markdown",
   "metadata": {},
   "source": [
    "## Phygoide"
   ]
  },
  {
   "cell_type": "code",
   "execution_count": null,
   "metadata": {},
   "outputs": [
    {
     "data": {
      "application/vnd.jupyter.widget-view+json": {
       "model_id": "92d1050bd7dc4cecbbc1c24fed24e964",
       "version_major": 2,
       "version_minor": 0
      },
      "text/plain": [
       "interactive(children=(FloatSlider(value=0.794, description='x', max=1.225, min=0.364, step=0.001), Checkbox(va…"
      ]
     },
     "metadata": {},
     "output_type": "display_data"
    }
   ],
   "source": [
    "# Define functions to calculate sigma and omega_null\n",
    "rho_sigma_ph_fn = lambda x: coeff[\"K\"][\"sigma\"][\"phygoide\"] * x + coeff['L']['sigma']['phygoide']/x\n",
    "rho_omega_null_ph_fn = lambda x: coeff[\"K\"][\"omega\"][\"phygoide\"]\n",
    "\n",
    "rho_ph_res = SolutionEval(rho_sigma_ph_fn, rho_omega_null_ph_fn, rho_variation_range)\n",
    "# Make interactive plot\n",
    "@interact(x=rho_variation_range, show_angle=False)\n",
    "def plot(x, show_angle):\n",
    "    rho_ph_plot = plt.subplots(figsize=(15, 8))\n",
    "    plot_complex(rho_ph_plot, rho_ph_res.ranged_sigma().real, rho_ph_res.ranged_omega().real)\n",
    "    plot_single_value(rho_ph_plot, x, rho_ph_res, show_angle)"
   ]
  }
 ],
 "metadata": {
  "kernelspec": {
   "display_name": "Python 3.10.0 ('venv3.10': venv)",
   "language": "python",
   "name": "python3"
  },
  "language_info": {
   "codemirror_mode": {
    "name": "ipython",
    "version": 3
   },
   "file_extension": ".py",
   "mimetype": "text/x-python",
   "name": "python",
   "nbconvert_exporter": "python",
   "pygments_lexer": "ipython3",
   "version": "3.10.0"
  },
  "vscode": {
   "interpreter": {
    "hash": "1cb0b6e5bb241331da06a198499b0cfd7056aa5d94a6863ef3855292a4494f17"
   }
  }
 },
 "nbformat": 4,
 "nbformat_minor": 2
}
