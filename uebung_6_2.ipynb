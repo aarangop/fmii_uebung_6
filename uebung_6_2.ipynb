{
 "cells": [
  {
   "cell_type": "code",
   "execution_count": 1,
   "metadata": {},
   "outputs": [],
   "source": [
    "from src.helpers import plot_complex, plot_single_value, SolutionEval\n",
    "import src as uebung_6_helpers\n",
    "import importlib.resources as pkg_resources\n",
    "import json\n",
    "import cmath\n",
    "import math\n",
    "import matplotlib.pyplot as plt\n",
    "from ipywidgets import interact\n",
    "\n",
    "# Load coefficients from file.\n",
    "coeff = json.load(pkg_resources.files(uebung_6_helpers).joinpath('coefficients.json').open('r'))\n"
   ]
  },
  {
   "cell_type": "markdown",
   "metadata": {},
   "source": [
    "# Variation der Schwerpunktlage $\\frac{x_{SP} - x_{FR}}{l_\\mu}$\n",
    "\n",
    "## Anstellwinkelschwingung"
   ]
  },
  {
   "cell_type": "code",
   "execution_count": 2,
   "metadata": {},
   "outputs": [
    {
     "data": {
      "application/vnd.jupyter.widget-view+json": {
       "model_id": "39ea2c0ac711483c868e5b0a07c2d7b1",
       "version_major": 2,
       "version_minor": 0
      },
      "text/plain": [
       "interactive(children=(FloatSlider(value=1.4000000000000001, description='x', max=2.7, min=0.1, step=0.001), Ch…"
      ]
     },
     "metadata": {},
     "output_type": "display_data"
    }
   ],
   "source": [
    "# Define functions to calculate sigma and omega_null\n",
    "x_sp_sigma_alpha_fn = lambda x: coeff['D']['sigma']['alpha'] * x * x + coeff['B']['sigma']['alpha'] *x + coeff['A']['sigma']['alpha']\n",
    "x_sp_omega_null_alpha_fn = lambda x: cmath.sqrt(cmath.sqrt(coeff['D']['omega']['alpha'] * x * x + coeff['B']['omega']['alpha'] *x + coeff['A']['omega']['alpha']))\n",
    "res = SolutionEval(x_sp_sigma_alpha_fn, x_sp_omega_null_alpha_fn, (0.1, 2.7, 0.001))\n",
    "\n",
    "# Make interactive plot\n",
    "@interact(x=(0.1, 2.7, 0.001), show_angle=False)\n",
    "def plot(x, show_angle):\n",
    "    x_sp_plot = plt.subplots(figsize=(20, 10))\n",
    "    plot_complex(x_sp_plot, res.ranged_sigma().real, res.ranged_omega().real)\n",
    "    plot_single_value(x_sp_plot, x, res, show_angle)\n",
    "    "
   ]
  },
  {
   "cell_type": "markdown",
   "metadata": {},
   "source": [
    "## Phygoide\n",
    "Unabhängig von der Schwerpunktlage"
   ]
  },
  {
   "cell_type": "markdown",
   "metadata": {},
   "source": [
    "# Variation der Trimmgeschwindigkeit $V_{TR}$"
   ]
  },
  {
   "cell_type": "code",
   "execution_count": 3,
   "metadata": {},
   "outputs": [],
   "source": [
    "v_tr_variation_range = (40, 150, 10)"
   ]
  },
  {
   "cell_type": "markdown",
   "metadata": {},
   "source": [
    "## Anstellwinkelschwingung"
   ]
  },
  {
   "cell_type": "code",
   "execution_count": 4,
   "metadata": {},
   "outputs": [
    {
     "data": {
      "application/vnd.jupyter.widget-view+json": {
       "model_id": "1e3492e0f04d4aa5baab051ca119d657",
       "version_major": 2,
       "version_minor": 0
      },
      "text/plain": [
       "interactive(children=(IntSlider(value=90, description='x', max=150, min=40, step=10), Checkbox(value=False, de…"
      ]
     },
     "metadata": {},
     "output_type": "display_data"
    }
   ],
   "source": [
    "# Define functions to calculate sigma and omega_null\n",
    "v_tr_sigma_alpha_fn = lambda x: coeff[\"E\"][\"sigma\"][\"alpha\"] * x\n",
    "v_tr_omega_null_alpha_fn = lambda x: coeff[\"E\"][\"omega\"][\"alpha\"] * x\n",
    "\n",
    "v_tr_alpha_res = SolutionEval(v_tr_sigma_alpha_fn, v_tr_omega_null_alpha_fn, v_tr_variation_range)\n",
    "\n",
    "# Make interactive plot\n",
    "@interact(x=v_tr_variation_range, show_angle=False)\n",
    "def plot(x, show_angle):\n",
    "    v_tr_alpha_plot = plt.subplots(figsize=(20, 10))\n",
    "    plot_complex(v_tr_alpha_plot, v_tr_alpha_res.ranged_sigma().real, v_tr_alpha_res.ranged_omega().real)\n",
    "    plot_single_value(v_tr_alpha_plot, x, v_tr_alpha_res, show_angle)"
   ]
  },
  {
   "cell_type": "markdown",
   "metadata": {},
   "source": [
    "## Phygoide"
   ]
  },
  {
   "cell_type": "code",
   "execution_count": 5,
   "metadata": {},
   "outputs": [
    {
     "data": {
      "application/vnd.jupyter.widget-view+json": {
       "model_id": "92b15b5fb6d14119b28541f1ef268cad",
       "version_major": 2,
       "version_minor": 0
      },
      "text/plain": [
       "interactive(children=(IntSlider(value=90, description='x', max=150, min=40, step=10), Checkbox(value=False, de…"
      ]
     },
     "metadata": {},
     "output_type": "display_data"
    }
   ],
   "source": [
    "# Define functions to calculate sigma and omega_null\n",
    "v_tr_sigma_ph_fn = lambda x: -0.000276 * (1/x) - 648.12/math.pow(x, 3)\n",
    "v_tr_omega_null_ph_fn = lambda x: coeff[\"E\"][\"omega\"][\"phygoide\"] * 1/x\n",
    "\n",
    "v_tr_ph_res = SolutionEval(v_tr_sigma_ph_fn, v_tr_omega_null_ph_fn, (40, 150, 0.1))\n",
    "\n",
    "# Make interactive plot\n",
    "@interact(x=v_tr_variation_range, show_angle=False)\n",
    "def plot(x, show_angle):\n",
    "    v_tr_ph_plot = plt.subplots(figsize=(20, 10))\n",
    "    plot_complex(v_tr_ph_plot, v_tr_ph_res.ranged_sigma().real, v_tr_ph_res.ranged_omega().real)\n",
    "    plot_single_value(v_tr_ph_plot, x, v_tr_ph_res, show_angle)"
   ]
  },
  {
   "cell_type": "markdown",
   "metadata": {},
   "source": [
    "## Variation des Nullwiderstands $C_{W0}$"
   ]
  },
  {
   "cell_type": "code",
   "execution_count": 6,
   "metadata": {},
   "outputs": [],
   "source": [
    "cw0_variation_range = (0.01, 0.6, 1e-4)"
   ]
  },
  {
   "cell_type": "markdown",
   "metadata": {},
   "source": [
    "## Anstellwinkelschwingung\n",
    "Unabängig vom Nullwiderstand!"
   ]
  },
  {
   "cell_type": "markdown",
   "metadata": {},
   "source": [
    "## Phygoide"
   ]
  },
  {
   "cell_type": "code",
   "execution_count": 7,
   "metadata": {},
   "outputs": [
    {
     "data": {
      "application/vnd.jupyter.widget-view+json": {
       "model_id": "26037365fd3047c398a7bec0595c1e44",
       "version_major": 2,
       "version_minor": 0
      },
      "text/plain": [
       "interactive(children=(FloatSlider(value=0.3049, description='x', max=0.6, min=0.01, step=0.0001), Checkbox(val…"
      ]
     },
     "metadata": {},
     "output_type": "display_data"
    }
   ],
   "source": [
    "# Define functions to calculate sigma and omega_null\n",
    "cw0_sigma_ph_fn = lambda x: coeff['H']['sigma']['phygoide'] * x + coeff['J']['sigma']['phygoide']\n",
    "cw0_omega_null_ph_fn = lambda x: coeff[\"H\"][\"omega\"][\"phygoide\"]\n",
    "\n",
    "cw0_ph_res = SolutionEval(cw0_sigma_ph_fn, cw0_omega_null_ph_fn, cw0_variation_range)\n",
    "\n",
    "# Make interactive plot\n",
    "@interact(x=cw0_variation_range, show_angle=False)\n",
    "def plot(x, show_angle):\n",
    "    cw0_ph_plot = plt.subplots(figsize=(20, 10))\n",
    "    plot_complex(cw0_ph_plot, cw0_ph_res.ranged_sigma().real, cw0_ph_res.ranged_omega().real)\n",
    "    plot_single_value(cw0_ph_plot, x, cw0_ph_res, show_angle)"
   ]
  },
  {
   "cell_type": "markdown",
   "metadata": {},
   "source": [
    "# Variation der Flughöhe bzw. der Luftdichte $\\rho$"
   ]
  },
  {
   "cell_type": "code",
   "execution_count": 8,
   "metadata": {},
   "outputs": [],
   "source": [
    "rho_variation_range = (0.364, 1.225, 0.001)"
   ]
  },
  {
   "cell_type": "markdown",
   "metadata": {},
   "source": [
    "## Anstellwinkelschwingung"
   ]
  },
  {
   "cell_type": "code",
   "execution_count": 9,
   "metadata": {},
   "outputs": [
    {
     "data": {
      "application/vnd.jupyter.widget-view+json": {
       "model_id": "904ea116abc144a0b2869498a458435b",
       "version_major": 2,
       "version_minor": 0
      },
      "text/plain": [
       "interactive(children=(FloatSlider(value=0.794, description='x', max=1.225, min=0.364, step=0.001), Checkbox(va…"
      ]
     },
     "metadata": {},
     "output_type": "display_data"
    }
   ],
   "source": [
    "# Define functions to calculate sigma and omega_null\n",
    "rho_sigma_alpha_fn = lambda x: coeff[\"K\"][\"sigma\"][\"alpha\"] * x\n",
    "rho_omega_null_alpha_fn = lambda x: math.sqrt(coeff[\"K\"][\"omega\"][\"alpha\"] * x + coeff['L']['omega']['alpha'] * x * x)\n",
    "\n",
    "rho_alpha_res = SolutionEval(rho_sigma_alpha_fn, rho_omega_null_alpha_fn, rho_variation_range)\n",
    "# Make interactive plot\n",
    "@interact(x=rho_variation_range, show_angle=False)\n",
    "def plot(x, show_angle):\n",
    "    rho_alpha_plot = plt.subplots(figsize=(20, 10))\n",
    "    plot_complex(rho_alpha_plot, rho_alpha_res.ranged_sigma().real, rho_alpha_res.ranged_omega().real)\n",
    "    plot_single_value(rho_alpha_plot, x, rho_alpha_res, show_angle)"
   ]
  },
  {
   "cell_type": "markdown",
   "metadata": {},
   "source": [
    "## Phygoide"
   ]
  },
  {
   "cell_type": "code",
   "execution_count": 10,
   "metadata": {},
   "outputs": [
    {
     "data": {
      "application/vnd.jupyter.widget-view+json": {
       "model_id": "329346688c3a445ba967413e3c823625",
       "version_major": 2,
       "version_minor": 0
      },
      "text/plain": [
       "interactive(children=(FloatSlider(value=0.794, description='x', max=1.225, min=0.364, step=0.001), Checkbox(va…"
      ]
     },
     "metadata": {},
     "output_type": "display_data"
    }
   ],
   "source": [
    "# Define functions to calculate sigma and omega_null\n",
    "rho_sigma_ph_fn = lambda x: coeff[\"K\"][\"sigma\"][\"phygoide\"] * x + coeff['L']['sigma']['phygoide']/x\n",
    "rho_omega_null_ph_fn = lambda x: coeff[\"K\"][\"omega\"][\"phygoide\"]\n",
    "\n",
    "rho_ph_res = SolutionEval(rho_sigma_ph_fn, rho_omega_null_ph_fn, rho_variation_range)\n",
    "# Make interactive plot\n",
    "@interact(x=rho_variation_range, show_angle=False)\n",
    "def plot(x, show_angle):\n",
    "    rho_ph_plot = plt.subplots(figsize=(20, 10))\n",
    "    plot_complex(rho_ph_plot, rho_ph_res.ranged_sigma().real, rho_ph_res.ranged_omega().real)\n",
    "    plot_single_value(rho_ph_plot, x, rho_ph_res, show_angle)"
   ]
  }
 ],
 "metadata": {
  "kernelspec": {
   "display_name": "Python 3 (ipykernel)",
   "language": "python",
   "name": "python3"
  },
  "language_info": {
   "codemirror_mode": {
    "name": "ipython",
    "version": 3
   },
   "file_extension": ".py",
   "mimetype": "text/x-python",
   "name": "python",
   "nbconvert_exporter": "python",
   "pygments_lexer": "ipython3",
   "version": "3.10.0"
  },
  "vscode": {
   "interpreter": {
    "hash": "bb8e4c0208c962dd0e3aa62b312efc1e3d0382ec795ae3eb7dda9bbd6b21ef55"
   }
  }
 },
 "nbformat": 4,
 "nbformat_minor": 2
}
